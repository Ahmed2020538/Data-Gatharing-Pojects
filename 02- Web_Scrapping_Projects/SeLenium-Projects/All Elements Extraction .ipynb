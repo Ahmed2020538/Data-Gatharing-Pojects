{
 "cells": [
  {
   "cell_type": "code",
   "execution_count": null,
   "id": "f13c9f7c",
   "metadata": {},
   "outputs": [],
   "source": [
    "from urllib.r"
   ]
  },
  {
   "cell_type": "markdown",
   "id": "5901a526",
   "metadata": {},
   "source": [
    "# Selenium Doc URL::\n",
    "------------------------------\n",
    "\n",
    "* https://selenium-python.readthedocs.io/\n",
    "-----------------------------\n",
    "\n",
    "# selenium Project :\n",
    "-----------------------------\n",
    "\n",
    "* https://www.youtube.com/watch?v=lTypMlVBFM4\n",
    "* https://www.youtube.com/watch?v=_nv5o_TB6FY"
   ]
  },
  {
   "cell_type": "markdown",
   "id": "73b344cb",
   "metadata": {},
   "source": [
    "# Import Requieres Libs::\n",
    "-------------------------\n",
    "\n",
    "\n",
    "    from selenium import webdriver\n",
    "    from selenium.webdriver.common.by import By\n",
    "    from webdriver_manager.chrome import ChromeDriverManager as CDM\n",
    "    from selenium.webdriver.support.ui import WebDriverWait\n",
    "    from selenium.webdriver.support import expected_conditions as EC\n",
    "    from openpyxl import load_workbook\n",
    "    from time import sleep\n",
    "    import csv\n",
    "    import sqlite3 as S\n",
    "    import pandas as pd\n",
    "    import numpy as np"
   ]
  },
  {
   "cell_type": "markdown",
   "id": "5046b5b6",
   "metadata": {},
   "source": [
    "# Set URL\n",
    "------------------------\n",
    "    url = ' URl-Link'\n",
    "\n",
    "---------------------\n",
    "# Install Chrome Maneger  and get Response ::\n",
    "-------------\n",
    "    driver = webdriver.Chrome(CDM().install())\n",
    "    driver.get(url)\n"
   ]
  },
  {
   "cell_type": "markdown",
   "id": "281f4a98",
   "metadata": {},
   "source": [
    "# For List of elements::\n",
    "-----------------------\n",
    "\n",
    "* find_elements(By.ID, \"id\")\n",
    "* find_elements(By.NAME, \"name\")\n",
    "* find_elements(By.XPATH, \"xpath\")\n",
    "* find_elements(By.LINK_TEXT, \"link text\")\n",
    "* find_elements(By.PARTIAL_LINK_TEXT, \"partial link text\")\n",
    "* find_elements(By.TAG_NAME, \"tag name\")\n",
    "* find_elements(By.CLASS_NAME, \"class name\")\n",
    "* find_elements(By.CSS_SELECTOR, \"css selector\")\n",
    "\n",
    "# For Single element ::\n",
    "----------------------\n",
    "\n",
    "* find_element(By.ID, \"id\")\n",
    "* find_element(By.NAME, \"name\")\n",
    "* find_element(By.XPATH, \"xpath\")\n",
    "* find_element(By.LINK_TEXT, \"link text\")\n",
    "* find_element(By.PARTIAL_LINK_TEXT, \"partial link text\")\n",
    "* find_element(By.TAG_NAME, \"tag name\")\n",
    "* find_element(By.CLASS_NAME, \"class name\")\n",
    "* find_element(By.CSS_SELECTOR, \"css selector\")"
   ]
  },
  {
   "cell_type": "markdown",
   "id": "6ec1a11d",
   "metadata": {},
   "source": [
    "# By ID ::\n",
    "------------------\n",
    "\n",
    "    <html>\n",
    "     <body>\n",
    "      <form id=\"loginForm\">\n",
    "       <input name=\"username\" type=\"text\" />\n",
    "       <input name=\"password\" type=\"password\" />\n",
    "       <input name=\"continue\" type=\"submit\" value=\"Login\" />\n",
    "      </form>\n",
    "     </body>\n",
    "    </html>\n",
    "\n",
    "------------------\n",
    "    -- login_form = driver.find_element(By.ID, 'loginForm')\n"
   ]
  },
  {
   "cell_type": "markdown",
   "id": "56067d48",
   "metadata": {},
   "source": [
    "# By Name ::\n",
    "------------------\n",
    "\n",
    "    <html>\n",
    "     <body>\n",
    "      <form id=\"loginForm\">\n",
    "       <input name=\"username\" type=\"text\" />\n",
    "       <input name=\"password\" type=\"password\" />\n",
    "       <input name=\"continue\" type=\"submit\" value=\"Login\" />\n",
    "       <input name=\"continue\" type=\"button\" value=\"Clear\" />\n",
    "      </form>\n",
    "    </body>\n",
    "    </html>\n",
    "\n",
    "------------------\n",
    "\n",
    "    -- username = driver.find_element(By.NAME, 'username')\n",
    "    -- password = driver.find_element(By.NAME, 'password')\n",
    "    -- continue = driver.find_element(By.NAME, 'continue')"
   ]
  },
  {
   "cell_type": "markdown",
   "id": "52119bda",
   "metadata": {},
   "source": [
    "# By XPATH::\n",
    "-----------\n",
    "\n",
    "    <html>\n",
    "     <body>\n",
    "      <form id=\"loginForm\">\n",
    "       <input name=\"username\" type=\"text\" />\n",
    "       <input name=\"password\" type=\"password\" />\n",
    "       <input name=\"continue\" type=\"submit\" value=\"Login\" />\n",
    "       <input name=\"continue\" type=\"button\" value=\"Clear\" />\n",
    "      </form>\n",
    "    </body>\n",
    "    </html>\n",
    "    \n",
    "------------------\n",
    "      \n",
    "    -- login_form = driver.find_element(By.XPATH, \"/html/body/form[1]\")\n",
    "    -- login_form = driver.find_element(By.XPATH, \"//form[1]\")\n",
    "    -- login_form = driver.find_element(By.XPATH, \"//form[@id='loginForm']\")\n",
    "-----------------------------------\n",
    "    -- username = driver.find_element(By.XPATH, \"//form[input/@name='username']\")\n",
    "    -- username = driver.find_element(By.XPATH, \"//form[@id='loginForm']/input[1]\")\n",
    "    -- username = driver.find_element(By.XPATH, \"//input[@name='username']\")\n",
    "    \n",
    "-------------------------------------\n",
    "    -- clear_button = driver.find_element(By.XPATH, \"//input[@name='continue'][@type='button']\")\n",
    "    -- clear_button = driver.find_element(By.XPATH, \"//form[@id='loginForm']/input[4]\")\n",
    "-----------------------\n",
    "    -- To get Xpath right click on html line, select copy and select xpath"
   ]
  },
  {
   "cell_type": "markdown",
   "id": "eedbb911",
   "metadata": {},
   "source": [
    "# By Link-Text ::\n",
    "------------------\n",
    "\n",
    "    <html>\n",
    "     <body>\n",
    "      <p>Are you sure you want to do this?</p>\n",
    "      <a href=\"continue.html\">Continue</a>\n",
    "      <a href=\"cancel.html\">Cancel</a>\n",
    "    </body>\n",
    "    </html>\n",
    "    \n",
    "------------------\n",
    "\n",
    "    -- continue_link = driver.find_element(By.LINK_TEXT, 'Continue')\n",
    "    -- continue_link = driver.find_element(By.PARTIAL_LINK_TEXT, 'Conti')"
   ]
  },
  {
   "cell_type": "markdown",
   "id": "c3b087b3",
   "metadata": {},
   "source": [
    "# By Tag Name ::\n",
    "-----------------\n",
    "\n",
    "    <html>\n",
    "     <body>\n",
    "      <h1>Welcome</h1>\n",
    "      <p>Site content goes here.</p>\n",
    "    </body>\n",
    "    </html>\n",
    "-----------------------------\n",
    "\n",
    "    -- heading1 = driver.find_element(By.TAG_NAME, 'h1')\n",
    "\n",
    "    -- heading2 = driver.find_element(By.TAG_NAME, 'p')\n",
    "\n",
    "    -- heading3 = driver.find_element(By.TAG_NAME, 'a')\n",
    "\n",
    "    -- heading4 = driver.find_element(By.TAG_NAME, 'li')\n",
    "\n",
    "    -- heading5 = driver.find_element(By.TAG_NAME, 'lu')\n",
    "\n",
    "    -- heading6 = driver.find_element(By.TAG_NAME, 'h3')\n",
    "\n",
    "    -- heading7 = driver.find_element(By.TAG_NAME, 'i')\n",
    "\n",
    "    -- heading8 = driver.find_element(By.TAG_NAME, 'div')\n"
   ]
  },
  {
   "cell_type": "markdown",
   "id": "a11762d0",
   "metadata": {},
   "source": [
    "# BY Class Name ::\n",
    "------------------\n",
    "\n",
    "    <html>\n",
    "     <body>\n",
    "      <p class=\"content\">Site content goes here.</p>\n",
    "    </body>\n",
    "    </html>\n",
    "    \n",
    "  ------------------\n",
    "  \n",
    "    -- content = driver.find_element(By.CLASS_NAME, 'content')\n"
   ]
  },
  {
   "cell_type": "markdown",
   "id": "897a72c7",
   "metadata": {},
   "source": [
    "# By Css Selector ::\n",
    "--------------------\n",
    "\n",
    "    <html>\n",
    "     <body>\n",
    "      <p class=\"content\">Site content goes here.</p>\n",
    "    </body>\n",
    "    </html>\n",
    "    \n",
    "--------------------\n",
    "\n",
    "    -- content = driver.find_element(By.CSS_SELECTOR, 'p.content')\n"
   ]
  },
  {
   "cell_type": "code",
   "execution_count": null,
   "id": "df917db1",
   "metadata": {},
   "outputs": [],
   "source": []
  }
 ],
 "metadata": {
  "kernelspec": {
   "display_name": "Python 3 (ipykernel)",
   "language": "python",
   "name": "python3"
  },
  "language_info": {
   "codemirror_mode": {
    "name": "ipython",
    "version": 3
   },
   "file_extension": ".py",
   "mimetype": "text/x-python",
   "name": "python",
   "nbconvert_exporter": "python",
   "pygments_lexer": "ipython3",
   "version": "3.9.7"
  }
 },
 "nbformat": 4,
 "nbformat_minor": 5
}
