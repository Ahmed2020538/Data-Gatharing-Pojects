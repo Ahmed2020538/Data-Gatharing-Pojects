{
 "cells": [
  {
   "cell_type": "code",
   "execution_count": 1,
   "id": "1f647d9a",
   "metadata": {},
   "outputs": [],
   "source": [
    "# Load Requires Liberaries ::\n",
    "#-------------------------------\n",
    "from selenium import webdriver\n",
    "from selenium.webdriver.common.by import By\n",
    "from webdriver_manager.chrome import ChromeDriverManager as CDM\n",
    "from selenium.webdriver.support.ui import WebDriverWait\n",
    "from selenium.webdriver.support import expected_conditions as EC\n",
    "from openpyxl import load_workbook\n",
    "from time import sleep\n",
    "import csv\n",
    "import sqlite3 as S\n",
    "import pandas as pd\n",
    "import numpy as np"
   ]
  },
  {
   "cell_type": "code",
   "execution_count": 107,
   "id": "8a2b26f7",
   "metadata": {},
   "outputs": [
    {
     "name": "stderr",
     "output_type": "stream",
     "text": [
      "C:\\Users\\TECHNO~1\\AppData\\Local\\Temp/ipykernel_12956/317746345.py:4: DeprecationWarning: executable_path has been deprecated, please pass in a Service object\n",
      "  driver = webdriver.Chrome(CDM().install())\n"
     ]
    }
   ],
   "source": [
    "# Check Data Case ::\n",
    "#--------------------\n",
    "url = \"https://www.youtube.com/c/MustafaOthman/videos\"\n",
    "driver = webdriver.Chrome(CDM().install())\n",
    "driver.get(url)\n",
    "\n",
    "Data = driver.find_elements( By.ID, 'details')\n",
    "for d in Data :\n",
    "    try :\n",
    "        Vedio_Title = d.find_element(By.TAG_NAME , \"h3\").text  \n",
    "        #Veloger_Chanal = d.find_element(By.ID , \"metadata-container\").text\n",
    "        Viewers_Count = d.find_element(By.ID , 'metadata-container').text.split(\"s\")[0].strip().replace(\"view\" , \"views\")\n",
    "        Publish_Time = d.find_element(By.ID , 'metadata-container').text.split(\"s\")[1].strip()\n",
    "        print(f\"\"\"Vedio_Title :: {Vedio_Title}\\nViewers_Count :: {Viewers_Count}\n",
    "Publish_Time ::{Publish_Time}\\n========\"\"\")\n",
    "        #print(Publish_Time)\n",
    "    except :\n",
    "        print(F\"{np.nan}\\n======\")\n",
    "        pass\n",
    "    #Product_Discbtion = d.find_element(By.CSS_SELECTOR , \"span.a-size-base-plus a-color-base a-text-normal\").text\n",
    "    #print(Product_Discbtion)"
   ]
  },
  {
   "cell_type": "markdown",
   "id": "d2ff2853",
   "metadata": {},
   "source": [
    "# Get Random Data From Youtube ::\n",
    "-------------------------------"
   ]
  },
  {
   "cell_type": "code",
   "execution_count": 2,
   "id": "fa39261d",
   "metadata": {},
   "outputs": [],
   "source": [
    "def Get_Youtube_Data(url) :\n",
    "    with open(\"Youtube_Data.csv\" , \"w+\") as f :\n",
    "        writer = csv.DictWriter( f , fieldnames=[\"Vlog_Title\" , \"Veloger_Chanal\" , \"Viewers_Count\" , \n",
    "                                                 \"Publish_Time\"])\n",
    "        writer.writeheader()\n",
    "        driver = webdriver.Chrome(CDM().install())\n",
    "        driver.get(url)\n",
    "        Data = driver.find_elements( By.CLASS_NAME, 'style-scope ytd-rich-grid-media')\n",
    "        for d in Data :\n",
    "            try :\n",
    "                Vedio_Title = d.find_element(By.TAG_NAME , \"h3\").text  \n",
    "                Veloger_Chanal = d.find_element(By.ID , \"text-container\").text\n",
    "                Viewers_Count = d.find_element(By.ID , 'metadata-line').text.split(\"s\")[0].strip().replace(\"view\" , \"views\")\n",
    "                Publish_Time = d.find_element(By.ID , 'metadata-line').text.split(\"s\")[1].strip()\n",
    "                writer.writerow({\"Vlog_Title\" : Vedio_Title , \"Veloger_Chanal\" : Veloger_Chanal,\n",
    "                                 \"Viewers_Count\" : Viewers_Count, \"Publish_Time\" :Publish_Time})\n",
    "                print(f\"\"\"Vedio_Title :: {Vedio_Title}\\nVeloger_Chanal :: {Veloger_Chanal}\n",
    "Viewers_Count :: {Viewers_Count}\\nPublish_Time ::{Publish_Time}\\n========\"\"\")\n",
    "            except :\n",
    "                print(F\"{np.nan}\\n======\")\n",
    "                writer.writerow({\"Vlog_Title\" : np.nan , \"Veloger_Chanal\" : np.nan,\n",
    "                                 \"Viewers_Count\" : np.nan, \"Publish_Time\" :np.nan})\n",
    "                pass\n",
    "        \n",
    "        \n",
    "        "
   ]
  },
  {
   "cell_type": "code",
   "execution_count": 3,
   "id": "82a9d2f0",
   "metadata": {},
   "outputs": [
    {
     "name": "stderr",
     "output_type": "stream",
     "text": [
      "[WDM] - Downloading: 100%|████████████████████████████████████████████████████████| 6.29M/6.29M [00:02<00:00, 2.91MB/s]\n",
      "C:\\Users\\TECHNO~1\\AppData\\Local\\Temp/ipykernel_11512/987055674.py:6: DeprecationWarning: executable_path has been deprecated, please pass in a Service object\n",
      "  driver = webdriver.Chrome(CDM().install())\n"
     ]
    }
   ],
   "source": [
    "url = \"https://www.youtube.com/\"\n",
    "Get_Youtube_Data(url)"
   ]
  },
  {
   "cell_type": "code",
   "execution_count": 4,
   "id": "6673c8c1",
   "metadata": {},
   "outputs": [
    {
     "data": {
      "text/html": [
       "<div>\n",
       "<style scoped>\n",
       "    .dataframe tbody tr th:only-of-type {\n",
       "        vertical-align: middle;\n",
       "    }\n",
       "\n",
       "    .dataframe tbody tr th {\n",
       "        vertical-align: top;\n",
       "    }\n",
       "\n",
       "    .dataframe thead th {\n",
       "        text-align: right;\n",
       "    }\n",
       "</style>\n",
       "<table border=\"1\" class=\"dataframe\">\n",
       "  <thead>\n",
       "    <tr style=\"text-align: right;\">\n",
       "      <th></th>\n",
       "      <th>Vlog_Title</th>\n",
       "      <th>Veloger_Chanal</th>\n",
       "      <th>Viewers_Count</th>\n",
       "      <th>Publish_Time</th>\n",
       "    </tr>\n",
       "  </thead>\n",
       "  <tbody>\n",
       "  </tbody>\n",
       "</table>\n",
       "</div>"
      ],
      "text/plain": [
       "Empty DataFrame\n",
       "Columns: [Vlog_Title, Veloger_Chanal, Viewers_Count, Publish_Time]\n",
       "Index: []"
      ]
     },
     "execution_count": 4,
     "metadata": {},
     "output_type": "execute_result"
    }
   ],
   "source": [
    "pd.read_csv(\"Youtube_Data.csv\")"
   ]
  },
  {
   "cell_type": "markdown",
   "id": "e89263fe",
   "metadata": {},
   "source": [
    "# Get Custom Data from Chanal of Youtube ::\n",
    "--------------------------------"
   ]
  },
  {
   "cell_type": "code",
   "execution_count": 2,
   "id": "f24445bc",
   "metadata": {
    "scrolled": true
   },
   "outputs": [
    {
     "name": "stderr",
     "output_type": "stream",
     "text": [
      "[WDM] - Downloading: 100%|████████████████████████████████████████████████████████| 6.29M/6.29M [00:01<00:00, 3.36MB/s]\n",
      "C:\\Users\\TECHNO~1\\AppData\\Local\\Temp/ipykernel_69556/705225608.py:6: DeprecationWarning: executable_path has been deprecated, please pass in a Service object\n",
      "  driver = webdriver.Chrome(CDM().install())\n"
     ]
    },
    {
     "name": "stdout",
     "output_type": "stream",
     "text": [
      "nan\n",
      "======\n",
      "nan\n",
      "======\n",
      "nan\n",
      "======\n",
      "nan\n",
      "======\n",
      "nan\n",
      "======\n",
      "nan\n",
      "======\n",
      "nan\n",
      "======\n",
      "nan\n",
      "======\n",
      "nan\n",
      "======\n",
      "nan\n",
      "======\n",
      "nan\n",
      "======\n",
      "nan\n",
      "======\n",
      "nan\n",
      "======\n",
      "nan\n",
      "======\n",
      "nan\n",
      "======\n",
      "nan\n",
      "======\n",
      "nan\n",
      "======\n",
      "nan\n",
      "======\n",
      "nan\n",
      "======\n",
      "nan\n",
      "======\n",
      "nan\n",
      "======\n",
      "nan\n",
      "======\n",
      "nan\n",
      "======\n",
      "nan\n",
      "======\n",
      "nan\n",
      "======\n",
      "nan\n",
      "======\n",
      "nan\n",
      "======\n",
      "nan\n",
      "======\n",
      "nan\n",
      "======\n",
      "nan\n",
      "======\n"
     ]
    }
   ],
   "source": [
    "\n",
    "with open(\"Custom_youtube_Chanal_Data.csv\" , \"w+\") as f :\n",
    "    writer = csv.DictWriter( f , fieldnames=[\"Vlog_Title\"  , \"Viewers_Count\" , \n",
    "                                             \"Publish_Time\"])\n",
    "    writer.writeheader()\n",
    "    url = \"https://www.youtube.com/c/MustafaOthman/videos\"\n",
    "    driver = webdriver.Chrome(CDM().install())\n",
    "    driver.get(url)\n",
    "    Data = driver.find_elements( By.ID, 'details')\n",
    "    for d in Data :\n",
    "        try :\n",
    "            Vedio_Title = d.find_element(By.TAG_NAME , \"h3\").text  \n",
    "            #Veloger_Chanal = d.find_element(By.ID , \"text-container\").text\n",
    "            Viewers_Count = d.find_element(By.ID , 'metadata-container').text.split(\"s\")[0].strip().replace(\"view\" , \"views\")\n",
    "            Publish_Time = d.find_element(By.ID , 'metadata-container').text.split(\"s\")[1].strip()\n",
    "            writer.writerow({\"Vlog_Title\" : Vedio_Title , \n",
    "                             \"Viewers_Count\" : Viewers_Count, \"Publish_Time\" :Publish_Time})\n",
    "            print(f\"\"\"Vedio_Title :: {Vedio_Title}\\nViewers_Count :: {Viewers_Count}\n",
    "Publish_Time ::{Publish_Time}\\n========\"\"\")\n",
    "        except :\n",
    "            print(F\"{np.nan}\\n======\")\n",
    "            writer.writerow({\"Vlog_Title\" : np.nan ,\n",
    "                             \"Viewers_Count\" : np.nan, \"Publish_Time\" :np.nan})\n",
    "            pass\n"
   ]
  },
  {
   "cell_type": "code",
   "execution_count": 6,
   "id": "87e7bfaf",
   "metadata": {
    "scrolled": true
   },
   "outputs": [
    {
     "name": "stderr",
     "output_type": "stream",
     "text": [
      "C:\\Users\\TECHNO~1\\AppData\\Local\\Temp/ipykernel_11512/831960993.py:7: DeprecationWarning: executable_path has been deprecated, please pass in a Service object\n",
      "  driver = webdriver.Chrome(CDM().install())\n"
     ]
    }
   ],
   "source": []
  },
  {
   "cell_type": "code",
   "execution_count": 3,
   "id": "c148702a",
   "metadata": {},
   "outputs": [
    {
     "name": "stderr",
     "output_type": "stream",
     "text": [
      "C:\\Users\\TECHNO~1\\AppData\\Local\\Temp/ipykernel_69556/2763990030.py:2: DeprecationWarning: executable_path has been deprecated, please pass in a Service object\n",
      "  driver = webdriver.Chrome(CDM().install())\n"
     ]
    }
   ],
   "source": [
    "url = \"https://www.youtube.com/c/MustafaOthman/videos\"\n",
    "driver = webdriver.Chrome(CDM().install())\n",
    "driver.get(url)\n",
    "Data = driver.find_elements( By.ID, 'details')\n",
    "for d in Data :\n",
    "    try :\n",
    "        Vedio_Title = d.find_element(By.TAG_NAME , \"h3\").text  \n",
    "        #Veloger_Chanal = d.find_element(By.ID , \"text-container\").text\n",
    "        Viewers_Count = d.find_element(By.ID , 'metadata-container').text.split(\"s\")[0].strip().replace(\"view\" , \"views\")\n",
    "        Publish_Time = d.find_element(By.ID , 'metadata-container').text.split(\"s\")[1].strip()\n",
    "        writer.writerow({\"Vlog_Title\" : Vedio_Title , \n",
    "                         \"Viewers_Count\" : Viewers_Count, \"Publish_Time\" :Publish_Time})\n",
    "        print(f\"\"\"Vedio_Title :: {Vedio_Title}\\nViewers_Count :: {Viewers_Count}\n",
    "Publish_Time ::{Publish_Time}\\n========\"\"\")\n",
    "    except :\n",
    "        print(F\"{np.nan}\\n======\")\n",
    "        writer.writerow({\"Vlog_Title\" : np.nan ,\n",
    "                         \"Viewers_Count\" : np.nan, \"Publish_Time\" :np.nan})\n",
    "        pass"
   ]
  },
  {
   "cell_type": "code",
   "execution_count": 7,
   "id": "eee62cc2",
   "metadata": {
    "scrolled": true
   },
   "outputs": [
    {
     "data": {
      "text/html": [
       "<div>\n",
       "<style scoped>\n",
       "    .dataframe tbody tr th:only-of-type {\n",
       "        vertical-align: middle;\n",
       "    }\n",
       "\n",
       "    .dataframe tbody tr th {\n",
       "        vertical-align: top;\n",
       "    }\n",
       "\n",
       "    .dataframe thead th {\n",
       "        text-align: right;\n",
       "    }\n",
       "</style>\n",
       "<table border=\"1\" class=\"dataframe\">\n",
       "  <thead>\n",
       "    <tr style=\"text-align: right;\">\n",
       "      <th></th>\n",
       "      <th>Vlog_Title</th>\n",
       "      <th>Viewers_Count</th>\n",
       "      <th>Publish_Time</th>\n",
       "    </tr>\n",
       "  </thead>\n",
       "  <tbody>\n",
       "  </tbody>\n",
       "</table>\n",
       "</div>"
      ],
      "text/plain": [
       "Empty DataFrame\n",
       "Columns: [Vlog_Title, Viewers_Count, Publish_Time]\n",
       "Index: []"
      ]
     },
     "execution_count": 7,
     "metadata": {},
     "output_type": "execute_result"
    }
   ],
   "source": [
    "pd.read_csv(\"Custom_youtube_Chanal_Data.csv\")"
   ]
  },
  {
   "cell_type": "code",
   "execution_count": null,
   "id": "b5e70c2d",
   "metadata": {},
   "outputs": [],
   "source": [
    "# Check Data Case ::\n",
    "#--------------------\n",
    "url = \"https://www.youtube.com/c/MustafaOthman/videos\"\n",
    "driver = webdriver.Chrome(CDM().install())\n",
    "driver.get(url)\n",
    "\n",
    "Data = driver.find_elements( By.ID, 'details')\n",
    "for d in Data :\n",
    "    try :\n",
    "        Vedio_Title = d.find_element(By.TAG_NAME , \"h3\").text  \n",
    "        #Veloger_Chanal = d.find_element(By.ID , \"metadata-container\").text\n",
    "        Viewers_Count = d.find_element(By.ID , 'metadata-container').text.split(\"s\")[0].strip().replace(\"view\" , \"views\")\n",
    "        Publish_Time = d.find_element(By.ID , 'metadata-container').text.split(\"s\")[1].strip()\n",
    "        print(f\"\"\"Vedio_Title :: {Vedio_Title}\\nViewers_Count :: {Viewers_Count}\n",
    "Publish_Time ::{Publish_Time}\\n========\"\"\")\n",
    "        #print(Publish_Time)\n",
    "    except :\n",
    "        print(F\"{np.nan}\\n======\")\n",
    "        pass\n",
    "    #Product_Discbtion = d.find_element(By.CSS_SELECTOR , \"span.a-size-base-plus a-color-base a-text-normal\").text\n",
    "    #print(Product_Discbtion)"
   ]
  },
  {
   "cell_type": "code",
   "execution_count": 106,
   "id": "29438ee6",
   "metadata": {},
   "outputs": [
    {
     "name": "stderr",
     "output_type": "stream",
     "text": [
      "C:\\Users\\TECHNO~1\\AppData\\Local\\Temp/ipykernel_12956/4026895166.py:6: DeprecationWarning: executable_path has been deprecated, please pass in a Service object\n",
      "  driver = webdriver.Chrome(CDM().install())\n"
     ]
    },
    {
     "name": "stdout",
     "output_type": "stream",
     "text": [
      "nan\n",
      "======\n",
      "nan\n",
      "======\n",
      "nan\n",
      "======\n",
      "nan\n",
      "======\n",
      "nan\n",
      "======\n",
      "nan\n",
      "======\n",
      "nan\n",
      "======\n",
      "nan\n",
      "======\n",
      "nan\n",
      "======\n",
      "nan\n",
      "======\n",
      "nan\n",
      "======\n",
      "nan\n",
      "======\n",
      "nan\n",
      "======\n",
      "nan\n",
      "======\n",
      "nan\n",
      "======\n",
      "nan\n",
      "======\n",
      "nan\n",
      "======\n",
      "nan\n",
      "======\n",
      "nan\n",
      "======\n",
      "nan\n",
      "======\n",
      "nan\n",
      "======\n",
      "nan\n",
      "======\n",
      "nan\n",
      "======\n",
      "nan\n",
      "======\n",
      "nan\n",
      "======\n",
      "nan\n",
      "======\n",
      "nan\n",
      "======\n",
      "nan\n",
      "======\n",
      "nan\n",
      "======\n",
      "nan\n",
      "======\n"
     ]
    }
   ],
   "source": [
    "with open(\"Custom_youtube_Chanal_Data.csv\" , \"w+\") as f :\n",
    "    writer = csv.DictWriter( f , fieldnames=[\"Vlog_Title\"  , \"Viewers_Count\" , \n",
    "                                             \"Publish_Time\"])\n",
    "    writer.writeheader()\n",
    "    url = \"https://www.youtube.com/c/MustafaOthman/videos\"\n",
    "    driver = webdriver.Chrome(CDM().install())\n",
    "    driver.get(url)\n",
    "    Data = driver.find_elements( By.ID, 'details')\n",
    "    for d in Data :\n",
    "        try :\n",
    "            Vedio_Title = d.find_element(By.TAG_NAME , \"h3\").text  \n",
    "            #Veloger_Chanal = d.find_element(By.ID , \"text-container\").text\n",
    "            Viewers_Count = d.find_element(By.ID , 'metadata-container').text.split(\"s\")[0].strip().replace(\"view\" , \"views\")\n",
    "            Publish_Time = d.find_element(By.ID , 'metadata-container').text.split(\"s\")[1].strip()\n",
    "            writer.writerow({\"Vlog_Title\" : Vedio_Title , \n",
    "                             \"Viewers_Count\" : Viewers_Count, \"Publish_Time\" :Publish_Time})\n",
    "            print(f\"\"\"Vedio_Title :: {Vedio_Title}\\nViewers_Count :: {Viewers_Count}\n",
    "Publish_Time ::{Publish_Time}\\n========\"\"\")\n",
    "        except :\n",
    "            print(F\"{np.nan}\\n======\")\n",
    "            writer.writerow({\"Vlog_Title\" : np.nan ,\n",
    "                             \"Viewers_Count\" : np.nan, \"Publish_Time\" :np.nan})\n",
    "            pass"
   ]
  },
  {
   "cell_type": "code",
   "execution_count": null,
   "id": "cbbf8403",
   "metadata": {},
   "outputs": [],
   "source": []
  }
 ],
 "metadata": {
  "kernelspec": {
   "display_name": "Python 3 (ipykernel)",
   "language": "python",
   "name": "python3"
  },
  "language_info": {
   "codemirror_mode": {
    "name": "ipython",
    "version": 3
   },
   "file_extension": ".py",
   "mimetype": "text/x-python",
   "name": "python",
   "nbconvert_exporter": "python",
   "pygments_lexer": "ipython3",
   "version": "3.9.7"
  }
 },
 "nbformat": 4,
 "nbformat_minor": 5
}
