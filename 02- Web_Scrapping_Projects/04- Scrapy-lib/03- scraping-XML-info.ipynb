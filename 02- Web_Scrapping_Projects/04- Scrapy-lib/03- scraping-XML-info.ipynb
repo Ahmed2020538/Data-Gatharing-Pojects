{
 "cells": [
  {
   "cell_type": "markdown",
   "metadata": {},
   "source": [
    "# Overview of XPath and XML ::\n",
    "**************\n",
    "*  is a syntax that is used to define XML documents. It can be used to traverse through an XML document. Note that XPath’s follows a hierarchy."
   ]
  },
  {
   "cell_type": "code",
   "execution_count": null,
   "metadata": {},
   "outputs": [],
   "source": [
    "# Extracting title of post\n",
    "response.xpath(\"//item/title\").extract_first()\n",
    "# Extracting title of post text only\n",
    "response.xpath(\"//item/title/text()\").extract_first()\n"
   ]
  },
  {
   "cell_type": "code",
   "execution_count": null,
   "metadata": {},
   "outputs": [],
   "source": [
    "import scrapy\n",
    "\n",
    "class TechcrunchSpider(scrapy.Spider):\n",
    "    #name of the spider\n",
    "    name = 'techcrunch'\n",
    "\n",
    "    #list of allowed domains\n",
    "    allowed_domains = ['techcrunch.com/feed/']\n",
    "\n",
    "    #starting url for scraping\n",
    "    start_urls = ['http://techcrunch.com/feed/']\n",
    "\n",
    "    #setting the location of the output csv file\n",
    "    custom_settings = {\n",
    "        'FEED_URI' : 'tmp/techcrunch.csv'\n",
    "    }\n",
    "\n",
    "    def parse(self, response):\n",
    "        #Remove XML namespaces\n",
    "        response.selector.remove_namespaces()\n",
    "\n",
    "        #Extract article information\n",
    "        titles = response.xpath('//item/title/text()').extract()\n",
    "        authors = response.xpath('//item/creator/text()').extract()\n",
    "        dates = response.xpath('//item/pubDate/text()').extract()\n",
    "        links = response.xpath('//item/link/text()').extract()\n",
    "\n",
    "        for item in zip(titles,authors,dates,links):\n",
    "            scraped_info = {\n",
    "                'title' : item[0],\n",
    "                'author' : item[1],\n",
    "                'publish_date' : item[2],\n",
    "                'link' : item[3]\n",
    "            }\n",
    "\n",
    "            yield scraped_info"
   ]
  }
 ],
 "metadata": {
  "kernelspec": {
   "display_name": "Python 3",
   "language": "python",
   "name": "python3"
  },
  "language_info": {
   "codemirror_mode": {
    "name": "ipython",
    "version": 3
   },
   "file_extension": ".py",
   "mimetype": "text/x-python",
   "name": "python",
   "nbconvert_exporter": "python",
   "pygments_lexer": "ipython3",
   "version": "3.7.4"
  }
 },
 "nbformat": 4,
 "nbformat_minor": 5
}
