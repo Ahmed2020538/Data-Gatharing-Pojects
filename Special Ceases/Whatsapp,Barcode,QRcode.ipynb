{
 "cells": [
  {
   "cell_type": "markdown",
   "metadata": {},
   "source": [
    "# WhatsApp Massage"
   ]
  },
  {
   "cell_type": "code",
   "execution_count": null,
   "metadata": {},
   "outputs": [],
   "source": [
    "# Install Lib\n",
    "#pip install twilio\n"
   ]
  },
  {
   "cell_type": "code",
   "execution_count": null,
   "metadata": {},
   "outputs": [],
   "source": [
    "from twilio.rest import Client\n",
    "\n",
    "# Your Account SID from twilio.com/console\n",
    "account_sid = \"ACXXXXXXXXXXXXXXXXXXXXXXXXXXXXXXXX\"\n",
    "# Your Auth Token from twilio.com/console\n",
    "auth_token  = \"your_auth_token\"\n",
    "\n",
    "client = Client(account_sid, auth_token)\n",
    "# this is the Twilio sandbox testing number\n",
    "from_whatsapp_number='whatsapp:+201013900542'\n",
    "# replace this number with your own WhatsApp Messaging number\n",
    "to_whatsapp_number='whatsapp:+201013900542'\n",
    "\n",
    "client.messages.create(body='Hi, world!',\n",
    "                       from_=from_whatsapp_number,\n",
    "                       to=to_whatsapp_number)"
   ]
  },
  {
   "cell_type": "code",
   "execution_count": null,
   "metadata": {
    "scrolled": true
   },
   "outputs": [],
   "source": [
    "# In Custom Period\n",
    "from twilio.rest import Client\n",
    "\n",
    "# client credentials are read from TWILIO_ACCOUNT_SID and AUTH_TOKEN\n",
    "client = Client()\n",
    "\n",
    "# this is the Twilio sandbox testing number\n",
    "from_whatsapp_number='+201013900542'\n",
    "# replace this number with your own WhatsApp Messaging number\n",
    "to_whatsapp_number='+201275616069'\n",
    "\n",
    "client.messages.create(body='Hi, world!',\n",
    "                       from_=from_whatsapp_number,\n",
    "                       to=to_whatsapp_number)"
   ]
  },
  {
   "cell_type": "code",
   "execution_count": null,
   "metadata": {},
   "outputs": [],
   "source": [
    "# Currently Sending \n",
    "# using Exception Handling to avoid unexpected errors\n",
    "try:\n",
    "     # sending message in Whatsapp in India so using Indian dial code (+91)\n",
    "        # Hour == 12 and Min == 1\n",
    "    #pwk.sendwhatmsg(\"+201275616069\", \"Hi, how are you?\" , 12 , 8 , True)\n",
    "    pwk.sendwhatmsg_instantly(\"+201147201491\", \"Hi, I'm Testing Programm Okay?\" , 12 ,26 , True)\n",
    "    print(\"Message Sent!\") #Prints success message in console +20 127 561 6069\n",
    "     # error message\n",
    "except: \n",
    "    print(\"Error in sending the message\")"
   ]
  },
  {
   "cell_type": "markdown",
   "metadata": {},
   "source": [
    "# Create Barcode\n"
   ]
  },
  {
   "cell_type": "code",
   "execution_count": null,
   "metadata": {},
   "outputs": [],
   "source": [
    "# Install Lib of Barcode\n",
    "#pip install python-barcode \n"
   ]
  },
  {
   "cell_type": "code",
   "execution_count": null,
   "metadata": {},
   "outputs": [],
   "source": [
    "# With SVG Extention\n",
    "# import EAN13 from barcode module\n",
    "from barcode import EAN13\n",
    "  \n",
    "# Make sure to pass the number as string\n",
    "number = '201275616069'\n",
    "  \n",
    "# Now, let's create an object of EAN13\n",
    "# class and pass the number\n",
    "my_code = EAN13(number)\n",
    "  \n",
    "# Our barcode is ready. Let's save it.\n",
    " my_code.save(\"Omnia-code\")"
   ]
  },
  {
   "cell_type": "code",
   "execution_count": null,
   "metadata": {},
   "outputs": [],
   "source": [
    "# With PNG Extention\n",
    "# import EAN13 from barcode module\n",
    "from barcode import EAN13\n",
    "  \n",
    "# import ImageWriter to generate an image file\n",
    "from barcode.writer import ImageWriter\n",
    "  \n",
    "# Make sure to pass the number as string\n",
    "number = '5901234123457'\n",
    "  \n",
    "# Now, let's create an object of EAN13 class and \n",
    "# pass the number with the ImageWriter() as the \n",
    "# writer\n",
    "my_code = EAN13(number, writer=ImageWriter())\n",
    "  \n",
    "# Our barcode is ready. Let's save it.\n",
    "my_code.save(\"new_code1\")"
   ]
  },
  {
   "cell_type": "code",
   "execution_count": null,
   "metadata": {},
   "outputs": [],
   "source": []
  },
  {
   "cell_type": "code",
   "execution_count": null,
   "metadata": {},
   "outputs": [],
   "source": [
    "pip install qrcode\n"
   ]
  },
  {
   "cell_type": "code",
   "execution_count": null,
   "metadata": {},
   "outputs": [],
   "source": [
    "\n",
    "# Importing library\n",
    "import qrcode\n",
    " \n",
    "# Data to be encoded\n",
    "data = 'QR Code using make() function'\n",
    " \n",
    "# Encoding data using make() function\n",
    "img = qrcode.make(data)\n",
    " \n",
    "# Saving as an image file\n",
    "img.save('MyQRCode1.png')"
   ]
  },
  {
   "cell_type": "code",
   "execution_count": 2,
   "metadata": {},
   "outputs": [],
   "source": [
    "\n",
    "# Importing library\n",
    "import qrcode\n",
    " \n",
    "# Data to encode\n",
    "data = \"GeeksforGeeks\"\n",
    " \n",
    "# Creating an instance of QRCode class\n",
    "qr = qrcode.QRCode(version = 1,\n",
    "                   box_size = 10,\n",
    "                   border = 5)\n",
    " \n",
    "# Adding data to the instance 'qr'\n",
    "qr.add_data(data)\n",
    " \n",
    "qr.make(fit = True)\n",
    "img = qr.make_image(fill_color = 'red',\n",
    "                    back_color = 'white')\n",
    " \n",
    "img.save('MyQRCode2.png')"
   ]
  },
  {
   "cell_type": "code",
   "execution_count": 5,
   "metadata": {},
   "outputs": [],
   "source": [
    "# Data to encode\n",
    "name = \"Ahmad Elsayed Ibrahim\"\n",
    "Title = \"Data Scientist\"\n",
    "Experience = \"2 Years\"\n",
    "Current_Institution = \" Alahly-Pharos Exchange\"\n",
    "Number = \"+201013900542\"\n",
    "FB =\"https://www.facebook.com/eng.mido.33821/\"\n",
    "GitHub = \"https://github.com/Ahmed2020538\"\n",
    "\n",
    "#data = f\"Name = {name}\\n\\nTitle = {Title}\\n\\nExperience = {Experience}\\n\\nCurrent_Institution  ={Current_Institution}\\n\\nGitHub = {GitHub}\\n\\nFB = {FB}\\n\\nNumber = {Number}\"\n",
    "data = Current_Institution\n",
    "# Creating an instance of QRCode class\n",
    "qr = qrcode.QRCode(version = 1,\n",
    "                   box_size = 10,\n",
    "                   border = 5)\n",
    " \n",
    "# Adding data to the instance 'qr'\n",
    "qr.add_data(data)\n",
    " \n",
    "qr.make(fit = True)\n",
    "img = qr.make_image(fill_color = 'red',\n",
    "                    back_color = 'white')\n",
    " \n",
    "img.save('Ahmad-Elsayed.png')"
   ]
  },
  {
   "cell_type": "code",
   "execution_count": null,
   "metadata": {},
   "outputs": [],
   "source": []
  }
 ],
 "metadata": {
  "kernelspec": {
   "display_name": "Python 3",
   "language": "python",
   "name": "python3"
  },
  "language_info": {
   "codemirror_mode": {
    "name": "ipython",
    "version": 3
   },
   "file_extension": ".py",
   "mimetype": "text/x-python",
   "name": "python",
   "nbconvert_exporter": "python",
   "pygments_lexer": "ipython3",
   "version": "3.7.4"
  }
 },
 "nbformat": 4,
 "nbformat_minor": 2
}
