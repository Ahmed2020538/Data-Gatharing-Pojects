{
 "cells": [
  {
   "cell_type": "markdown",
   "metadata": {},
   "source": [
    "# WhatsApp Massage"
   ]
  },
  {
   "cell_type": "code",
   "execution_count": 7,
   "metadata": {},
   "outputs": [
    {
     "ename": "SyntaxError",
     "evalue": "invalid syntax (Temp/ipykernel_15700/4104234149.py, line 3)",
     "output_type": "error",
     "traceback": [
      "\u001b[1;36m  File \u001b[1;32m\"C:\\Users\\TECHNO~1\\AppData\\Local\\Temp/ipykernel_15700/4104234149.py\"\u001b[1;36m, line \u001b[1;32m3\u001b[0m\n\u001b[1;33m    pip install pandas\u001b[0m\n\u001b[1;37m        ^\u001b[0m\n\u001b[1;31mSyntaxError\u001b[0m\u001b[1;31m:\u001b[0m invalid syntax\n"
     ]
    }
   ],
   "source": [
    "# Install Lib\n",
    "#pip install twilio\n",
    "pip install pandas\n"
   ]
  },
  {
   "cell_type": "code",
   "execution_count": 1,
   "metadata": {},
   "outputs": [
    {
     "ename": "ModuleNotFoundError",
     "evalue": "No module named 'twilio'",
     "output_type": "error",
     "traceback": [
      "\u001b[1;31m---------------------------------------------------------------------------\u001b[0m",
      "\u001b[1;31mModuleNotFoundError\u001b[0m                       Traceback (most recent call last)",
      "\u001b[1;32mC:\\Users\\TECHNO~1\\AppData\\Local\\Temp/ipykernel_15700/1832352837.py\u001b[0m in \u001b[0;36m<module>\u001b[1;34m\u001b[0m\n\u001b[1;32m----> 1\u001b[1;33m \u001b[1;32mfrom\u001b[0m \u001b[0mtwilio\u001b[0m\u001b[1;33m.\u001b[0m\u001b[0mrest\u001b[0m \u001b[1;32mimport\u001b[0m \u001b[0mClient\u001b[0m\u001b[1;33m\u001b[0m\u001b[1;33m\u001b[0m\u001b[0m\n\u001b[0m\u001b[0;32m      2\u001b[0m \u001b[1;33m\u001b[0m\u001b[0m\n\u001b[0;32m      3\u001b[0m \u001b[1;31m# Your Account SID from twilio.com/console\u001b[0m\u001b[1;33m\u001b[0m\u001b[1;33m\u001b[0m\u001b[0m\n\u001b[0;32m      4\u001b[0m \u001b[0maccount_sid\u001b[0m \u001b[1;33m=\u001b[0m \u001b[1;34m\"ACXXXXXXXXXXXXXXXXXXXXXXXXXXXXXXXX\"\u001b[0m\u001b[1;33m\u001b[0m\u001b[1;33m\u001b[0m\u001b[0m\n\u001b[0;32m      5\u001b[0m \u001b[1;31m# Your Auth Token from twilio.com/console\u001b[0m\u001b[1;33m\u001b[0m\u001b[1;33m\u001b[0m\u001b[0m\n",
      "\u001b[1;31mModuleNotFoundError\u001b[0m: No module named 'twilio'"
     ]
    }
   ],
   "source": [
    "from twilio.rest import Client\n",
    "\n",
    "# Your Account SID from twilio.com/console\n",
    "account_sid = \"ACXXXXXXXXXXXXXXXXXXXXXXXXXXXXXXXX\"\n",
    "# Your Auth Token from twilio.com/console\n",
    "auth_token  = \"your_auth_token\"\n",
    "\n",
    "client = Client(account_sid, auth_token)\n",
    "# this is the Twilio sandbox testing number\n",
    "from_whatsapp_number='whatsapp:+201013900542'\n",
    "# replace this number with your own WhatsApp Messaging number\n",
    "to_whatsapp_number='whatsapp:+201013900542'\n",
    "\n",
    "client.messages.create(body='Hi, world!',\n",
    "                       from_=from_whatsapp_number,\n",
    "                       to=to_whatsapp_number)"
   ]
  },
  {
   "cell_type": "code",
   "execution_count": 3,
   "metadata": {
    "scrolled": true
   },
   "outputs": [
    {
     "ename": "ModuleNotFoundError",
     "evalue": "No module named 'twilio'",
     "output_type": "error",
     "traceback": [
      "\u001b[1;31m---------------------------------------------------------------------------\u001b[0m",
      "\u001b[1;31mModuleNotFoundError\u001b[0m                       Traceback (most recent call last)",
      "\u001b[1;32mC:\\Users\\TECHNO~1\\AppData\\Local\\Temp/ipykernel_15700/2447232235.py\u001b[0m in \u001b[0;36m<module>\u001b[1;34m\u001b[0m\n\u001b[0;32m      1\u001b[0m \u001b[1;31m# In Custom Period\u001b[0m\u001b[1;33m\u001b[0m\u001b[1;33m\u001b[0m\u001b[0m\n\u001b[1;32m----> 2\u001b[1;33m \u001b[1;32mfrom\u001b[0m \u001b[0mtwilio\u001b[0m\u001b[1;33m.\u001b[0m\u001b[0mrest\u001b[0m \u001b[1;32mimport\u001b[0m \u001b[0mClient\u001b[0m\u001b[1;33m\u001b[0m\u001b[1;33m\u001b[0m\u001b[0m\n\u001b[0m\u001b[0;32m      3\u001b[0m \u001b[1;33m\u001b[0m\u001b[0m\n\u001b[0;32m      4\u001b[0m \u001b[1;31m# client credentials are read from TWILIO_ACCOUNT_SID and AUTH_TOKEN\u001b[0m\u001b[1;33m\u001b[0m\u001b[1;33m\u001b[0m\u001b[0m\n\u001b[0;32m      5\u001b[0m \u001b[0mclient\u001b[0m \u001b[1;33m=\u001b[0m \u001b[0mClient\u001b[0m\u001b[1;33m(\u001b[0m\u001b[1;33m)\u001b[0m\u001b[1;33m\u001b[0m\u001b[1;33m\u001b[0m\u001b[0m\n",
      "\u001b[1;31mModuleNotFoundError\u001b[0m: No module named 'twilio'"
     ]
    }
   ],
   "source": [
    "# In Custom Period\n",
    "from twilio.rest import Client\n",
    "\n",
    "# client credentials are read from TWILIO_ACCOUNT_SID and AUTH_TOKEN\n",
    "client = Client()\n",
    "\n",
    "# this is the Twilio sandbox testing number\n",
    "from_whatsapp_number='+201013900542'\n",
    "# replace this number with your own WhatsApp Messaging number\n",
    "to_whatsapp_number='+201275616069'\n",
    "\n",
    "client.messages.create(body='Hi, world!',\n",
    "                       from_=from_whatsapp_number,\n",
    "                       to=to_whatsapp_number)"
   ]
  },
  {
   "cell_type": "code",
   "execution_count": 4,
   "metadata": {},
   "outputs": [
    {
     "name": "stdout",
     "output_type": "stream",
     "text": [
      "Error in sending the message\n"
     ]
    }
   ],
   "source": [
    "# Currently Sending \n",
    "# using Exception Handling to avoid unexpected errors\n",
    "try:\n",
    "     # sending message in Whatsapp in India so using Indian dial code (+91)\n",
    "        # Hour == 12 and Min == 1\n",
    "    #pwk.sendwhatmsg(\"+201275616069\", \"Hi, how are you?\" , 12 , 8 , True)\n",
    "    pwk.sendwhatmsg_instantly(\"+201147201491\", \"Hi, I'm Testing Programm Okay?\" , 12 ,26 , True)\n",
    "    print(\"Message Sent!\") #Prints success message in console +20 127 561 6069\n",
    "     # error message\n",
    "except: \n",
    "    print(\"Error in sending the message\")"
   ]
  },
  {
   "cell_type": "markdown",
   "metadata": {},
   "source": [
    "# Create Barcode\n"
   ]
  },
  {
   "cell_type": "code",
   "execution_count": null,
   "metadata": {},
   "outputs": [],
   "source": [
    "# Install Lib of Barcode\n",
    "#pip install python-barcode \n"
   ]
  },
  {
   "cell_type": "code",
   "execution_count": null,
   "metadata": {},
   "outputs": [],
   "source": [
    "# With SVG Extention\n",
    "# import EAN13 from barcode module\n",
    "from barcode import EAN13\n",
    "  \n",
    "# Make sure to pass the number as string\n",
    "number = '201275616069'\n",
    "  \n",
    "# Now, let's create an object of EAN13\n",
    "# class and pass the number\n",
    "my_code = EAN13(number)\n",
    "  \n",
    "# Our barcode is ready. Let's save it.\n",
    " my_code.save(\"Omnia-code\")"
   ]
  },
  {
   "cell_type": "code",
   "execution_count": null,
   "metadata": {},
   "outputs": [],
   "source": [
    "# With PNG Extention\n",
    "# import EAN13 from barcode module\n",
    "from barcode import EAN13\n",
    "  \n",
    "# import ImageWriter to generate an image file\n",
    "from barcode.writer import ImageWriter\n",
    "  \n",
    "# Make sure to pass the number as string\n",
    "number = '5901234123457'\n",
    "  \n",
    "# Now, let's create an object of EAN13 class and \n",
    "# pass the number with the ImageWriter() as the \n",
    "# writer\n",
    "my_code = EAN13(number, writer=ImageWriter())\n",
    "  \n",
    "# Our barcode is ready. Let's save it.\n",
    "my_code.save(\"new_code1\")"
   ]
  },
  {
   "cell_type": "code",
   "execution_count": null,
   "metadata": {},
   "outputs": [],
   "source": []
  },
  {
   "cell_type": "code",
   "execution_count": null,
   "metadata": {},
   "outputs": [],
   "source": [
    "pip install qrcode\n"
   ]
  },
  {
   "cell_type": "code",
   "execution_count": null,
   "metadata": {},
   "outputs": [],
   "source": [
    "\n",
    "# Importing library\n",
    "import qrcode\n",
    " \n",
    "# Data to be encoded\n",
    "data = 'QR Code using make() function'\n",
    " \n",
    "# Encoding data using make() function\n",
    "img = qrcode.make(data)\n",
    " \n",
    "# Saving as an image file\n",
    "img.save('MyQRCode1.png')"
   ]
  },
  {
   "cell_type": "code",
   "execution_count": 2,
   "metadata": {},
   "outputs": [],
   "source": [
    "\n",
    "# Importing library\n",
    "import qrcode\n",
    " \n",
    "# Data to encode\n",
    "data = \"GeeksforGeeks\"\n",
    " \n",
    "# Creating an instance of QRCode class\n",
    "qr = qrcode.QRCode(version = 1,\n",
    "                   box_size = 10,\n",
    "                   border = 5)\n",
    " \n",
    "# Adding data to the instance 'qr'\n",
    "qr.add_data(data)\n",
    " \n",
    "qr.make(fit = True)\n",
    "img = qr.make_image(fill_color = 'red',\n",
    "                    back_color = 'white')\n",
    " \n",
    "img.save('MyQRCode2.png')"
   ]
  },
  {
   "cell_type": "code",
   "execution_count": 5,
   "metadata": {},
   "outputs": [],
   "source": [
    "# Data to encode\n",
    "name = \"Ahmad Elsayed Ibrahim\"\n",
    "Title = \"Data Scientist\"\n",
    "Experience = \"2 Years\"\n",
    "Current_Institution = \" Alahly-Pharos Exchange\"\n",
    "Number = \"+201013900542\"\n",
    "FB =\"https://www.facebook.com/eng.mido.33821/\"\n",
    "GitHub = \"https://github.com/Ahmed2020538\"\n",
    "\n",
    "#data = f\"Name = {name}\\n\\nTitle = {Title}\\n\\nExperience = {Experience}\\n\\nCurrent_Institution  ={Current_Institution}\\n\\nGitHub = {GitHub}\\n\\nFB = {FB}\\n\\nNumber = {Number}\"\n",
    "data = Current_Institution\n",
    "# Creating an instance of QRCode class\n",
    "qr = qrcode.QRCode(version = 1,\n",
    "                   box_size = 10,\n",
    "                   border = 5)\n",
    " \n",
    "# Adding data to the instance 'qr'\n",
    "qr.add_data(data)\n",
    " \n",
    "qr.make(fit = True)\n",
    "img = qr.make_image(fill_color = 'red',\n",
    "                    back_color = 'white')\n",
    " \n",
    "img.save('Ahmad-Elsayed.png')"
   ]
  },
  {
   "cell_type": "code",
   "execution_count": null,
   "metadata": {},
   "outputs": [],
   "source": []
  }
 ],
 "metadata": {
  "kernelspec": {
   "display_name": "Python 3 (ipykernel)",
   "language": "python",
   "name": "python3"
  },
  "language_info": {
   "codemirror_mode": {
    "name": "ipython",
    "version": 3
   },
   "file_extension": ".py",
   "mimetype": "text/x-python",
   "name": "python",
   "nbconvert_exporter": "python",
   "pygments_lexer": "ipython3",
   "version": "3.9.7"
  }
 },
 "nbformat": 4,
 "nbformat_minor": 2
}
